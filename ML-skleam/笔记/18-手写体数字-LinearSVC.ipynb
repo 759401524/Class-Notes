{
 "cells": [
  {
   "cell_type": "code",
   "execution_count": 1,
   "metadata": {
    "collapsed": true,
    "pycharm": {
     "is_executing": false
    }
   },
   "outputs": [],
   "source": [
    "# 数据读取\n",
    "# 从sklearn.datasets里导入手写体数字加载器\n",
    "from sklearn.datasets import load_digits"
   ]
  },
  {
   "cell_type": "code",
   "execution_count": 5,
   "outputs": [
    {
     "name": "stdout",
     "text": [
      "(1797, 64)\n",
      "(1797,)\n"
     ],
     "output_type": "stream"
    }
   ],
   "source": [
    "X,y = load_digits(return_X_y=True)\n",
    "print(X.shape)\n",
    "print(y.shape)"
   ],
   "metadata": {
    "collapsed": false,
    "pycharm": {
     "name": "#%%\n",
     "is_executing": false
    }
   }
  },
  {
   "cell_type": "code",
   "execution_count": 2,
   "outputs": [
    {
     "name": "stdout",
     "text": [
      "(1797, 64)\n"
     ],
     "output_type": "stream"
    }
   ],
   "source": [
    "# 从通过数据加载器获得手写体数字的数码图像数据，并储存在digits变量中\n",
    "digits = load_digits()\n",
    "# 监视数据规模和特征维度\n",
    "print(digits.data.shape)  "
   ],
   "metadata": {
    "collapsed": false,
    "pycharm": {
     "name": "#%%\n",
     "is_executing": false
    }
   }
  },
  {
   "cell_type": "code",
   "execution_count": 3,
   "outputs": [
    {
     "name": "stderr",
     "text": [
      "\n",
      "Bad key \"text.kerning_factor\" on line 4 in\n",
      "C:\\ProgramData\\Miniconda3\\lib\\site-packages\\matplotlib\\mpl-data\\stylelib\\_classic_test_patch.mplstyle.\n",
      "You probably need to get an updated matplotlibrc file from\n",
      "https://github.com/matplotlib/matplotlib/blob/v3.1.3/matplotlibrc.template\n",
      "or from the matplotlib source distribution\n"
     ],
     "output_type": "stream"
    },
    {
     "name": "stdout",
     "text": [
      "[[ 0.  0.  0.  2. 13.  0.  0.  0.]\n",
      " [ 0.  0.  0.  8. 15.  0.  0.  0.]\n",
      " [ 0.  0.  5. 16.  5.  2.  0.  0.]\n",
      " [ 0.  0. 15. 12.  1. 16.  4.  0.]\n",
      " [ 0.  4. 16.  2.  9. 16.  8.  0.]\n",
      " [ 0.  0. 10. 14. 16. 16.  4.  0.]\n",
      " [ 0.  0.  0.  0. 13.  8.  0.  0.]\n",
      " [ 0.  0.  0.  0. 13.  6.  0.  0.]]\n"
     ],
     "output_type": "stream"
    },
    {
     "data": {
      "text/plain": "<Figure size 288x288 with 1 Axes>",
      "image/png": "[encoded data removed]"
     },
     "metadata": {
      "needs_background": "light"
     },
     "output_type": "display_data"
    }
   ],
   "source": [
    "import matplotlib.pyplot as plt\n",
    "plt.matshow(digits.images[100])\n",
    "print(digits.images[100])\n",
    "plt.show()"
   ],
   "metadata": {
    "collapsed": false,
    "pycharm": {
     "name": "#%%\n",
     "is_executing": false
    }
   }
  },
  {
   "cell_type": "code",
   "execution_count": 6,
   "outputs": [],
   "source": [
    "# 数据分割\n",
    "# 从sklearn.model_selection中导入rain_test_split用于分割数据\n",
    "from sklearn.model_selection import train_test_split"
   ],
   "metadata": {
    "collapsed": false,
    "pycharm": {
     "name": "#%%\n",
     "is_executing": false
    }
   }
  },
  {
   "cell_type": "code",
   "execution_count": 9,
   "outputs": [
    {
     "name": "stdout",
     "text": [
      "(1347,)\n",
      "(450,)\n"
     ],
     "output_type": "stream"
    }
   ],
   "source": [
    "# 随机选取75%的数据作为训练样本；其余25%的数据作为测试样本\n",
    "X_train, X_test, y_train, y_test = train_test_split(\n",
    "    X, y, test_size=0.25)\n",
    "print(y_train.shape)\n",
    "print(y_test.shape)"
   ],
   "metadata": {
    "collapsed": false,
    "pycharm": {
     "name": "#%%\n",
     "is_executing": false
    }
   }
  },
  {
   "cell_type": "code",
   "execution_count": 10,
   "outputs": [],
   "source": [
    "# 数据标准化\n",
    "# 从sklearn.preprocessing里导入数据标准化模块\n",
    "from sklearn.preprocessing import StandardScaler\n",
    "\n",
    "ss = StandardScaler()  # 仍然需要对训练和测试的特征数据进行标准化\n",
    "X_train = ss.fit_transform(X_train)\n",
    "X_test = ss.transform(X_test)"
   ],
   "metadata": {
    "collapsed": false,
    "pycharm": {
     "name": "#%%\n",
     "is_executing": false
    }
   }
  },
  {
   "cell_type": "code",
   "execution_count": 16,
   "outputs": [],
   "source": [
    "# 数字识别及预测\n",
    "# 从sklearn.svm里导入基于线性假设的支持向量机分类器LinearSVC\n",
    "from sklearn.svm import LinearSVC\n",
    "\n",
    "# 初始化线性假设的支持向量机分类器LinearSVC\n",
    "lsvc = LinearSVC(max_iter=10000)  \n",
    "# 进行模型训练\n",
    "lsvc.fit(X_train, y_train)  \n",
    "# 利用训练好的模型对测试样本的数字类别进行预测，\n",
    "# 预测结果储存在变量y_predict中\n",
    "y_predict = lsvc.predict(X_test)"
   ],
   "metadata": {
    "collapsed": false,
    "pycharm": {
     "name": "#%%\n",
     "is_executing": false
    }
   }
  },
  {
   "cell_type": "code",
   "execution_count": 17,
   "outputs": [
    {
     "name": "stdout",
     "text": [
      "The Accuracy of Linear SVC is: 0.96\n",
      "              precision    recall  f1-score   support\n",
      "\n",
      "           0       0.98      1.00      0.99        52\n",
      "           1       0.98      1.00      0.99        45\n",
      "           2       1.00      0.97      0.98        32\n",
      "           3       0.96      0.93      0.94        55\n",
      "           4       0.98      0.93      0.95        44\n",
      "           5       0.94      1.00      0.97        47\n",
      "           6       0.98      0.96      0.97        49\n",
      "           7       0.95      1.00      0.98        41\n",
      "           8       0.83      0.92      0.87        37\n",
      "           9       1.00      0.90      0.95        48\n",
      "\n",
      "    accuracy                           0.96       450\n",
      "   macro avg       0.96      0.96      0.96       450\n",
      "weighted avg       0.96      0.96      0.96       450\n",
      "\n"
     ],
     "output_type": "stream"
    }
   ],
   "source": [
    "# 性能分析\n",
    "# 使用模型自带的评估函数进行准确性测评\n",
    "print('The Accuracy of Linear SVC is:', lsvc.score(X_test, y_test))\n",
    "\n",
    "# 依然使用sklearn.metrics里面的classification_report模块对预测结果做更加详细的分析\n",
    "from sklearn.metrics import classification_report\n",
    "\n",
    "print(classification_report(y_test, y_predict, target_names=digits.target_names.astype(str)))\n"
   ],
   "metadata": {
    "collapsed": false,
    "pycharm": {
     "name": "#%%\n",
     "is_executing": false
    }
   }
  }
 ],
 "metadata": {
  "kernelspec": {
   "name": "python37664bitbaseconda55ffe487beff460a935df2aba1dd890b",
   "language": "python",
   "display_name": "Python 3.7.6 64-bit ('base': conda)"
  },
  "language_info": {
   "codemirror_mode": {
    "name": "ipython",
    "version": 2
   },
   "file_extension": ".py",
   "mimetype": "text/x-python",
   "name": "python",
   "nbconvert_exporter": "python",
   "pygments_lexer": "ipython2",
   "version": "2.7.6"
  },
  "pycharm": {
   "stem_cell": {
    "cell_type": "raw",
    "source": [],
    "metadata": {
     "collapsed": false
    }
   }
  }
 },
 "nbformat": 4,
 "nbformat_minor": 0
}