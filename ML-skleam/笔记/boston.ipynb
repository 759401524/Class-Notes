{
 "cells": [
  {
   "cell_type": "code",
   "execution_count": 1,
   "metadata": {},
   "outputs": [],
   "source": [
    "# 数据导入\n",
    "# 从sklearn.datasets导入波士顿房价预测数据读取器\n",
    "from sklearn.datasets import load_boston\n",
    "\n",
    "# 从读取房价数据存储在变量boston中\n",
    "boston = load_boston()"
   ]
  },
  {
   "cell_type": "code",
   "execution_count": null,
   "metadata": {},
   "outputs": [],
   "source": [
    "print(boston.DESCR)"
   ]
  },
  {
   "cell_type": "code",
   "execution_count": null,
   "metadata": {},
   "outputs": [],
   "source": [
    "print(boston.data.shape)"
   ]
  },
  {
   "cell_type": "code",
   "execution_count": 2,
   "metadata": {},
   "outputs": [],
   "source": [
    "# 数据分割\n",
    "from sklearn.model_selection import train_test_split\n",
    "\n",
    "X = boston.data\n",
    "y = boston.target\n",
    "# 随机采样25%的数据构建测试样本，其余作为训练样本\n",
    "X_train, X_test, y_train, y_test = train_test_split(X,\n",
    "                                                    y,\n",
    "                                                    test_size=0.25,\n",
    "                                                    random_state=33)"
   ]
  },
  {
   "cell_type": "code",
   "execution_count": 11,
   "metadata": {},
   "outputs": [
    {
     "name": "stdout",
     "output_type": "stream",
     "text": [
      "Max: 50.0\n",
      "Min: 5.0\n",
      "average: 22.532806324110677\n"
     ]
    }
   ],
   "source": [
    "import numpy as np\n",
    "print(\"Max:\", np.max(y))\n",
    "print(\"Min:\", np.min(y))\n",
    "print(\"average:\", np.mean(y))"
   ]
  },
  {
   "cell_type": "code",
   "execution_count": 3,
   "metadata": {},
   "outputs": [],
   "source": [
    "# 数据标准化\n",
    "from sklearn.preprocessing import StandardScaler\n",
    "\n",
    "# 分別初始化对特征和目标值的标准化器\n",
    "ss_X = StandardScaler()\n",
    "ss_y = StandardScaler()\n",
    "\n",
    "# 分别对训练和测试数据的特征以及目标值进行标准化处理\n",
    "X_train = ss_X.fit_transform(X_train)\n",
    "X_test = ss_X.transform(X_test)\n",
    "y_train = ss_y.fit_transform(y_train.reshape(-1, 1))\n",
    "y_test = ss_y.transform(y_test.reshape(-1, 1))"
   ]
  },
  {
   "cell_type": "code",
   "execution_count": 14,
   "metadata": {},
   "outputs": [
    {
     "name": "stdout",
     "output_type": "stream",
     "text": [
      "The value of default measurement of LinearRegression is 0.675795501452948\n",
      "The value of R_squared of LinearRegression is 0.675795501452948\n",
      "The mean squared error of LinearRegression is 0.29192471566734907\n",
      "The mean absoluate error of LinearRegression is 0.3806672918460586\n"
     ]
    }
   ],
   "source": [
    "# 房价预测—线性回归器—LinearRegression\n",
    "# 从sklearn.linear_model导入LinearRegression\n",
    "from sklearn.metrics import r2_score, mean_squared_error, mean_absolute_error\n",
    "from sklearn.linear_model import LinearRegression\n",
    "\n",
    "# 使用默认配置初始化线性回归器LinearRegression\n",
    "lr = LinearRegression()\n",
    "# 使用训练数据进行参数估计\n",
    "lr.fit(X_train, y_train)\n",
    "# 对测试数据进行回归预测\n",
    "lr_y = lr.predict(X_test)\n",
    "\n",
    "# 性能评价\n",
    "# 使用Linear Regression 模型自带的评估模块，并输出评估结果\n",
    "print(\"The value of default measurement of LinearRegression is\",\n",
    "      lr.score(X_test, y_test))\n",
    "# 导入r2_score、mean_squared_error以及mean_absolute_error用于回归性能的评估\n",
    "\n",
    "print(\"The value of R_squared of LinearRegression is\", r2_score(y_test, lr_y))\n",
    "print(\"The mean squared error of LinearRegression is\",\n",
    "      mean_squared_error(y_test, lr_y))\n",
    "print(\"The mean absoluate error of LinearRegression is\",\n",
    "      mean_absolute_error(y_test, lr_y))"
   ]
  },
  {
   "cell_type": "code",
   "execution_count": 5,
   "metadata": {},
   "outputs": [
    {
     "name": "stdout",
     "output_type": "stream",
     "text": [
      "The value of default measurement of SGDRegressor is 0.6625055603235801\n",
      "The value of R_squared of SGDRegressor is 0.6625055603235801\n",
      "The mean squared error of SGDRegressor is 0.30389142896964294\n",
      "The mean absoluate error of SGDRegressor is 0.37768116994232476\n"
     ]
    }
   ],
   "source": [
    "# 房价预测—线性回归器—SGDRegressor()\n",
    "# 从sklearn.linear_model导入SGDRegressor\n",
    "from sklearn.metrics import r2_score, mean_squared_error, mean_absolute_error\n",
    "from sklearn.linear_model import SGDRegressor\n",
    "\n",
    "# 使用默认配置初始化线性回归器SGDRegressor\n",
    "# sgdr = SGDRegressor(max_iter=5, tol=None)\n",
    "sgdr = SGDRegressor()\n",
    "# 使用训练数据进行参数估计\n",
    "# sgdr.fit(X_train, y_train)  # 提醒要对预测输出y做出ravel()转换\n",
    "sgdr.fit(X_train, y_train.ravel())\n",
    "\n",
    "# 对测试数据进行回归预测\n",
    "sgdr_y = sgdr.predict(X_test)\n",
    "\n",
    "# 性能评价\n",
    "# 使用SGDRegressor 模型自带的评估模块，并输出评估结果\n",
    "print(\"The value of default measurement of SGDRegressor is\",\n",
    "      sgdr.score(X_test, y_test))\n",
    "\n",
    "# r2_score、mean_squared_error以及mean_absolute_error回归性能的评估\n",
    "\n",
    "print(\"The value of R_squared of SGDRegressor is\", r2_score(y_test, sgdr_y))\n",
    "print(\"The mean squared error of SGDRegressor is\",\n",
    "      mean_squared_error(y_test, sgdr_y))\n",
    "print(\"The mean absoluate error of SGDRegressor is\",\n",
    "      mean_absolute_error(y_test, sgdr_y))"
   ]
  },
  {
   "cell_type": "code",
   "execution_count": null,
   "metadata": {},
   "outputs": [],
   "source": []
  }
 ],
 "metadata": {
  "kernelspec": {
   "display_name": "Python 3",
   "language": "python",
   "name": "python3"
  },
  "language_info": {
   "codemirror_mode": {
    "name": "ipython",
    "version": 3
   },
   "file_extension": ".py",
   "mimetype": "text/x-python",
   "name": "python",
   "nbconvert_exporter": "python",
   "pygments_lexer": "ipython3",
   "version": "3.7.6"
  }
 },
 "nbformat": 4,
 "nbformat_minor": 1
}
