{
 "cells": [
  {
   "cell_type": "code",
   "execution_count": null,
   "metadata": {
    "pycharm": {
     "name": "#%%\n"
    }
   },
   "outputs": [],
   "source": [
    "# 数据读取\n",
    "# 从sklearn.datasets里导入手写体数字加载器\n",
    "from sklearn.datasets import load_digits"
   ]
  },
  {
   "cell_type": "code",
   "execution_count": null,
   "metadata": {
    "pycharm": {
     "name": "#%%\n"
    }
   },
   "outputs": [],
   "source": [
    "X, y = load_digits(return_X_y=True)\n",
    "print(X.shape)\n",
    "print(y.shape)"
   ]
  },
  {
   "cell_type": "code",
   "execution_count": null,
   "metadata": {
    "pycharm": {
     "name": "#%%\n"
    }
   },
   "outputs": [],
   "source": [
    "# 从通过数据加载器获得手写体数字的数码图像数据，并储存在digits变量中\n",
    "digits = load_digits()\n",
    "# 监视数据规模和特征维度\n",
    "print(digits.data.shape)"
   ]
  },
  {
   "cell_type": "code",
   "execution_count": null,
   "metadata": {
    "pycharm": {
     "name": "#%%\n"
    }
   },
   "outputs": [],
   "source": [
    "import matplotlib.pyplot as plt\n",
    "plt.figure()\n",
    "plt.matshow(digits.images[100])\n",
    "print(digits.images[100])\n",
    "plt.show()"
   ]
  },
  {
   "cell_type": "code",
   "execution_count": null,
   "metadata": {
    "pycharm": {
     "name": "#%%\n"
    }
   },
   "outputs": [],
   "source": [
    "# 数据分割\n",
    "# 从sklearn.model_selection中导入rain_test_split用于分割数据\n",
    "from sklearn.model_selection import train_test_split"
   ]
  },
  {
   "cell_type": "code",
   "execution_count": null,
   "metadata": {
    "pycharm": {
     "name": "#%%\n"
    }
   },
   "outputs": [],
   "source": [
    "# 随机选取75%的数据作为训练样本；其余25%的数据作为测试样本\n",
    "X_train, X_test, y_train, y_test = train_test_split(X, y, test_size=0.25)\n",
    "print(y_train.shape)\n",
    "print(y_test.shape)"
   ]
  },
  {
   "cell_type": "code",
   "execution_count": null,
   "metadata": {
    "pycharm": {
     "name": "#%%\n"
    }
   },
   "outputs": [],
   "source": [
    "# 数据标准化\n",
    "# 从sklearn.preprocessing里导入数据标准化模块\n",
    "from sklearn.preprocessing import StandardScaler\n",
    "\n",
    "ss = StandardScaler()  # 仍然需要对训练和测试的特征数据进行标准化\n",
    "X_train = ss.fit_transform(X_train)\n",
    "X_test = ss.transform(X_test)"
   ]
  },
  {
   "cell_type": "markdown",
   "metadata": {},
   "source": [
    "# LogisticRegression"
   ]
  },
  {
   "cell_type": "code",
   "execution_count": null,
   "metadata": {
    "pycharm": {
     "name": "#%%\n"
    }
   },
   "outputs": [],
   "source": [
    "# 数字识别及预测\n",
    "# 从sklearn.linear_model里导入LogisticRegression\n",
    "from sklearn.linear_model import LogisticRegression\n",
    "\n",
    "# 初始化\n",
    "lgr = LogisticRegression(multi_class='auto', solver='liblinear')\n",
    "# 进行模型训练\n",
    "lgr.fit(X_train, y_train)\n",
    "# 利用训练好的模型对测试样本的数字类别进行预测，\n",
    "# 预测结果储存在变量y_predict中\n",
    "y_predict = lgr.predict(X_test)"
   ]
  },
  {
   "cell_type": "code",
   "execution_count": null,
   "metadata": {
    "pycharm": {
     "name": "#%%\n"
    }
   },
   "outputs": [],
   "source": [
    "# 性能分析\n",
    "# 使用模型自带的评估函数进行准确性测评\n",
    "from sklearn.metrics import classification_report\n",
    "print('The Accuracy of LogisticRegression is:', lgr.score(X_test, y_test))\n",
    "\n",
    "# 依然使用sklearn.metrics里面的classification_report模块对预测结果做更加详细的分析\n",
    "\n",
    "print(\n",
    "    classification_report(y_test,\n",
    "                          y_predict,\n",
    "                          target_names=digits.target_names.astype(str)))"
   ]
  },
  {
   "cell_type": "markdown",
   "metadata": {},
   "source": [
    "# SGDClassifier"
   ]
  },
  {
   "cell_type": "code",
   "execution_count": null,
   "metadata": {
    "pycharm": {
     "name": "#%%\n"
    }
   },
   "outputs": [],
   "source": [
    "# 数字识别及预测\n",
    "# 从sklearn.linear_model里导入SGDClassifier\n",
    "from sklearn.linear_model import SGDClassifier\n",
    "\n",
    "# 初始化\n",
    "sgdc = SGDClassifier()\n",
    "# 进行模型训练\n",
    "sgdc.fit(X_train, y_train)\n",
    "# 利用训练好的模型对测试样本的数字类别进行预测，\n",
    "# 预测结果储存在变量y_predict中\n",
    "y_predict = sgdc.predict(X_test)"
   ]
  },
  {
   "cell_type": "code",
   "execution_count": null,
   "metadata": {
    "pycharm": {
     "name": "#%%\n"
    }
   },
   "outputs": [],
   "source": [
    "# 性能分析\n",
    "# 使用模型自带的评估函数进行准确性测评\n",
    "from sklearn.metrics import classification_report\n",
    "print('The Accuracy of SGDClassifier is:', sgdc.score(X_test, y_test))\n",
    "\n",
    "# 依然使用sklearn.metrics里面的classification_report模块对预测结果做更加详细的分析\n",
    "\n",
    "print(\n",
    "    classification_report(y_test,\n",
    "                          y_predict,\n",
    "                          target_names=digits.target_names.astype(str)))"
   ]
  },
  {
   "cell_type": "markdown",
   "metadata": {},
   "source": [
    "# LinearSVC"
   ]
  },
  {
   "cell_type": "code",
   "execution_count": null,
   "metadata": {
    "pycharm": {
     "name": "#%%\n"
    }
   },
   "outputs": [],
   "source": [
    "# 数字识别及预测\n",
    "# 从sklearn.svm里导入基于线性假设的支持向量机分类器LinearSVC\n",
    "from sklearn.svm import LinearSVC\n",
    "\n",
    "# 初始化线性假设的支持向量机分类器LinearSVC\n",
    "lsvc = LinearSVC(max_iter=10000)\n",
    "# 进行模型训练\n",
    "lsvc.fit(X_train, y_train)\n",
    "# 利用训练好的模型对测试样本的数字类别进行预测，\n",
    "# 预测结果储存在变量y_predict中\n",
    "y_predict = lsvc.predict(X_test)"
   ]
  },
  {
   "cell_type": "code",
   "execution_count": null,
   "metadata": {
    "pycharm": {
     "name": "#%%\n"
    }
   },
   "outputs": [],
   "source": [
    "# 性能分析\n",
    "# 使用模型自带的评估函数进行准确性测评\n",
    "from sklearn.metrics import classification_report\n",
    "print('The Accuracy of Linear SVC is:', lsvc.score(X_test, y_test))\n",
    "\n",
    "# 依然使用sklearn.metrics里面的classification_report模块对预测结果做更加详细的分析\n",
    "\n",
    "print(\n",
    "    classification_report(y_test,\n",
    "                          y_predict,\n",
    "                          target_names=digits.target_names.astype(str)))"
   ]
  },
  {
   "cell_type": "markdown",
   "metadata": {},
   "source": [
    "# SVC"
   ]
  },
  {
   "cell_type": "code",
   "execution_count": null,
   "metadata": {
    "pycharm": {
     "name": "#%%\n"
    }
   },
   "outputs": [],
   "source": [
    "# 数字识别及预测\n",
    "# 从sklearn.svm里导入支持向量机分类器SVC。\n",
    "from sklearn.svm import SVC\n",
    "\n",
    "# 初始化支持向量机分类器SVC。\n",
    "svc = SVC()\n",
    "\n",
    "# 进行模型训练\n",
    "svc.fit(X_train, y_train)\n",
    "\n",
    "# 利用训练好的模型对测试样本的数字类别进行预测，\n",
    "# 预测结果储存在变量y_predict中。\n",
    "y_predict = svc.predict(X_test)"
   ]
  },
  {
   "cell_type": "code",
   "execution_count": null,
   "metadata": {
    "pycharm": {
     "name": "#%%\n"
    }
   },
   "outputs": [],
   "source": [
    "# 性能分析\n",
    "# 使用模型自带的评估函数进行准确性测评。\n",
    "from sklearn.metrics import classification_report\n",
    "print('The Accuracy of SVC is', svc.score(X_test, y_test))\n",
    "\n",
    "# 依然使用sklearn.metrics里面的classification_report模块对预测结果做\n",
    "# 更加详细的分析\n",
    "print(\n",
    "    classification_report(y_test,\n",
    "                          y_predict,\n",
    "                          target_names=digits.target_names.astype(str)))"
   ]
  },
  {
   "cell_type": "markdown",
   "metadata": {},
   "source": [
    "# NuSVC"
   ]
  },
  {
   "cell_type": "code",
   "execution_count": null,
   "metadata": {
    "pycharm": {
     "name": "#%%\n"
    }
   },
   "outputs": [],
   "source": [
    "# 数字识别及预测\n",
    "# 从sklearn.svm里导入核支持向量机分类器NuSVC。\n",
    "from sklearn.svm import NuSVC\n",
    "\n",
    "# 初始化核支持向量机分类器NuSVC。\n",
    "nusvc = NuSVC()\n",
    "\n",
    "# 进行模型训练\n",
    "nusvc.fit(X_train, y_train)\n",
    "\n",
    "# 利用训练好的模型对测试样本的数字类别进行预测，\n",
    "# 预测结果储存在变量y_predict中。\n",
    "y_predict = nusvc.predict(X_test)"
   ]
  },
  {
   "cell_type": "code",
   "execution_count": null,
   "metadata": {
    "pycharm": {
     "name": "#%%\n"
    }
   },
   "outputs": [],
   "source": [
    "# 性能分析\n",
    "# 使用模型自带的评估函数进行准确性测评。\n",
    "from sklearn.metrics import classification_report\n",
    "print('The Accuracy of NuSVC is', nusvc.score(X_test, y_test))\n",
    "\n",
    "# 依然使用sklearn.metrics里面的classification_report模块对预测结果做\n",
    "# 更加详细的分析\n",
    "print(\n",
    "    classification_report(y_test,\n",
    "                          y_predict,\n",
    "                          target_names=digits.target_names.astype(str)))"
   ]
  },
  {
   "cell_type": "markdown",
   "metadata": {},
   "source": [
    "# KNeighborsClassifier"
   ]
  },
  {
   "cell_type": "code",
   "execution_count": null,
   "metadata": {
    "pycharm": {
     "name": "#%%\n"
    }
   },
   "outputs": [],
   "source": [
    "# 数字识别及预测\n",
    "# 从sklearn.neighnors里导入KNeighborsClassifier\n",
    "from sklearn.neighbors import KNeighborsClassifier\n",
    "\n",
    "# 初始化KNeighborsClassifier\n",
    "neighbor = KNeighborsClassifier()\n",
    "# 进行模型训练\n",
    "neighbor.fit(X_train, y_train)\n",
    "\n",
    "# 利用训练好的模型对测试样本的数字类别进行预测，\n",
    "# 预测结果储存在变量y_predict中\n",
    "y_predict = neighbor.predict(X_test)"
   ]
  },
  {
   "cell_type": "code",
   "execution_count": null,
   "metadata": {
    "pycharm": {
     "name": "#%%\n"
    }
   },
   "outputs": [],
   "source": [
    "# 性能分析\n",
    "# 使用模型自带的评估函数进行准确性测评\n",
    "from sklearn.metrics import classification_report\n",
    "print('The Accuracy of KNeighborsClassifier is:',\n",
    "      neighbor.score(X_test, y_test))\n",
    "\n",
    "# 依然使用sklearn.metrics里面的classification_report模块对预测结果做更加详细的分析\n",
    "\n",
    "print(\n",
    "    classification_report(y_test,\n",
    "                          y_predict,\n",
    "                          target_names=digits.target_names.astype(str)))"
   ]
  },
  {
   "cell_type": "markdown",
   "metadata": {
    "pycharm": {
     "name": "#%% md\n"
    }
   },
   "source": [
    "# GaussianNB"
   ]
  },
  {
   "cell_type": "code",
   "execution_count": null,
   "metadata": {
    "pycharm": {
     "name": "#%%\n"
    }
   },
   "outputs": [],
   "source": [
    "# 数字识别及预测\n",
    "# 从sklearn.naive_bayes里导入GaussianNB\n",
    "from sklearn.naive_bayes import GaussianNB\n",
    "\n",
    "# 初始化GaussianNB\n",
    "gsbayes = GaussianNB()\n",
    "# 进行模型训练\n",
    "gsbayes.fit(X_train, y_train)\n",
    "\n",
    "# 利用训练好的模型对测试样本的数字类别进行预测，\n",
    "# 预测结果储存在变量y_predict中\n",
    "y_predict = gsbayes.predict(X_test)"
   ]
  },
  {
   "cell_type": "code",
   "execution_count": null,
   "metadata": {
    "pycharm": {
     "name": "#%%\n"
    }
   },
   "outputs": [],
   "source": [
    "# 性能分析\n",
    "# 使用模型自带的评估函数进行准确性测评\n",
    "from sklearn.metrics import classification_report\n",
    "print('The Accuracy of GaussianNB is:', gsbayes.score(X_test, y_test))\n",
    "\n",
    "# 依然使用sklearn.metrics里面的classification_report模块对预测结果做更加详细的分析\n",
    "\n",
    "print(\n",
    "    classification_report(y_test,\n",
    "                          y_predict,\n",
    "                          target_names=digits.target_names.astype(str)))"
   ]
  },
  {
   "cell_type": "markdown",
   "metadata": {},
   "source": [
    "# BernoulliNB"
   ]
  },
  {
   "cell_type": "code",
   "execution_count": null,
   "metadata": {
    "pycharm": {
     "name": "#%%\n"
    }
   },
   "outputs": [],
   "source": [
    "# 数字识别及预测\n",
    "# 从sklearn.naive_bayes里导入BernoulliNB\n",
    "from sklearn.naive_bayes import BernoulliNB\n",
    "\n",
    "# 初始化BernoulliNB\n",
    "bnlbayes = BernoulliNB()\n",
    "# 进行模型训练\n",
    "bnlbayes.fit(X_train, y_train)\n",
    "\n",
    "# 利用训练好的模型对测试样本的数字类别进行预测，\n",
    "# 预测结果储存在变量y_predict中\n",
    "y_predict = bnlbayes.predict(X_test)"
   ]
  },
  {
   "cell_type": "code",
   "execution_count": null,
   "metadata": {
    "pycharm": {
     "name": "#%%\n"
    }
   },
   "outputs": [],
   "source": [
    "# 性能分析\n",
    "# 使用模型自带的评估函数进行准确性测评\n",
    "from sklearn.metrics import classification_report\n",
    "print('The Accuracy of BernoulliNB is:', bnlbayes.score(X_test, y_test))\n",
    "\n",
    "# 依然使用sklearn.metrics里面的classification_report模块对预测结果做更加详细的分析\n",
    "\n",
    "print(\n",
    "    classification_report(y_test,\n",
    "                          y_predict,\n",
    "                          target_names=digits.target_names.astype(str)))"
   ]
  },
  {
   "cell_type": "markdown",
   "metadata": {},
   "source": [
    "# DecisionTreeClassifier"
   ]
  },
  {
   "cell_type": "code",
   "execution_count": null,
   "metadata": {
    "pycharm": {
     "name": "#%%\n"
    }
   },
   "outputs": [],
   "source": [
    "# 数字识别及预测\n",
    "# 从sklearn.tree里导入DecisionTreeClassifier\n",
    "from sklearn.tree import DecisionTreeClassifier\n",
    "\n",
    "# 初始化DecisionTreeClassifier\n",
    "dtc = DecisionTreeClassifier()\n",
    "# 进行模型训练\n",
    "dtc.fit(X_train, y_train)\n",
    "\n",
    "# 利用训练好的模型对测试样本的数字类别进行预测，\n",
    "# 预测结果储存在变量y_predict中\n",
    "y_predict = dtc.predict(X_test)"
   ]
  },
  {
   "cell_type": "code",
   "execution_count": null,
   "metadata": {
    "pycharm": {
     "name": "#%%\n"
    }
   },
   "outputs": [],
   "source": [
    "# 性能分析\n",
    "# 使用模型自带的评估函数进行准确性测评\n",
    "from sklearn.metrics import classification_report\n",
    "print('The Accuracy of DecisionTreeClassifier is:', dtc.score(X_test, y_test))\n",
    "\n",
    "# 依然使用sklearn.metrics里面的classification_report模块对预测结果做更加详细的分析\n",
    "\n",
    "print(\n",
    "    classification_report(y_test,\n",
    "                          y_predict,\n",
    "                          target_names=digits.target_names.astype(str)))"
   ]
  },
  {
   "cell_type": "markdown",
   "metadata": {},
   "source": [
    "# RandomForestClassifier"
   ]
  },
  {
   "cell_type": "code",
   "execution_count": null,
   "metadata": {
    "pycharm": {
     "name": "#%%\n"
    }
   },
   "outputs": [],
   "source": [
    "# 数字识别及预测\n",
    "# 从sklearn.ensemble里导入RandomForestClassifier\n",
    "from sklearn.ensemble import RandomForestClassifier\n",
    "\n",
    "# 初始化RandomForestClassifier\n",
    "rfc = RandomForestClassifier()\n",
    "# 进行模型训练\n",
    "rfc.fit(X_train, y_train)\n",
    "\n",
    "# 利用训练好的模型对测试样本的数字类别进行预测，\n",
    "# 预测结果储存在变量y_predict中\n",
    "y_predict = rfc.predict(X_test)"
   ]
  },
  {
   "cell_type": "code",
   "execution_count": null,
   "metadata": {
    "pycharm": {
     "name": "#%%\n"
    }
   },
   "outputs": [],
   "source": [
    "# 性能分析\n",
    "# 使用模型自带的评估函数进行准确性测评\n",
    "from sklearn.metrics import classification_report\n",
    "print('The Accuracy of RandomForestClassifier is:', rfc.score(X_test, y_test))\n",
    "\n",
    "# 依然使用sklearn.metrics里面的classification_report模块对预测结果做更加详细的分析\n",
    "\n",
    "print(\n",
    "    classification_report(y_test,\n",
    "                          y_predict,\n",
    "                          target_names=digits.target_names.astype(str)))"
   ]
  },
  {
   "cell_type": "markdown",
   "metadata": {},
   "source": [
    "# GradientBoostingClassifier"
   ]
  },
  {
   "cell_type": "code",
   "execution_count": null,
   "metadata": {
    "pycharm": {
     "name": "#%%\n"
    }
   },
   "outputs": [],
   "source": [
    "# 数字识别及预测\n",
    "# 从sklearn.ensemble里导入GradientBoostingClassifier\n",
    "from sklearn.ensemble import GradientBoostingClassifier\n",
    "\n",
    "# 初始化GradientBoostingClassifier\n",
    "gbc = GradientBoostingClassifier()\n",
    "# 进行模型训练\n",
    "gbc.fit(X_train, y_train)\n",
    "\n",
    "# 利用训练好的模型对测试样本的数字类别进行预测，\n",
    "# 预测结果储存在变量y_predict中\n",
    "y_predict = gbc.predict(X_test)"
   ]
  },
  {
   "cell_type": "code",
   "execution_count": null,
   "metadata": {
    "pycharm": {
     "name": "#%%\n"
    }
   },
   "outputs": [],
   "source": [
    "# 性能分析\n",
    "# 使用模型自带的评估函数进行准确性测评\n",
    "from sklearn.metrics import classification_report\n",
    "print('The Accuracy of GradientBoostingClassifier is:',\n",
    "      gbc.score(X_test, y_test))\n",
    "\n",
    "# 依然使用sklearn.metrics里面的classification_report模块对预测结果做更加详细的分析\n",
    "\n",
    "print(\n",
    "    classification_report(y_test,\n",
    "                          y_predict,\n",
    "                          target_names=digits.target_names.astype(str)))"
   ]
  }
 ],
 "metadata": {
  "kernelspec": {
   "display_name": "Python 3.7.6 64-bit ('base': conda)",
   "language": "python",
   "name": "python37664bitbaseconda55ffe487beff460a935df2aba1dd890b"
  },
  "language_info": {
   "codemirror_mode": {
    "name": "ipython",
    "version": 3
   },
   "file_extension": ".py",
   "mimetype": "text/x-python",
   "name": "python",
   "nbconvert_exporter": "python",
   "pygments_lexer": "ipython3",
   "version": "3.7.6"
  },
  "latex_envs": {
   "LaTeX_envs_menu_present": true,
   "autoclose": false,
   "autocomplete": true,
   "bibliofile": "biblio.bib",
   "cite_by": "apalike",
   "current_citInitial": 1,
   "eqLabelWithNumbers": true,
   "eqNumInitial": 1,
   "hotkeys": {
    "equation": "Ctrl-E",
    "itemize": "Ctrl-I"
   },
   "labels_anchors": false,
   "latex_user_defs": false,
   "report_style_numbering": false,
   "user_envs_cfg": false
  },
  "pycharm": {
   "stem_cell": {
    "cell_type": "raw",
    "metadata": {
     "collapsed": false
    },
    "source": []
   }
  }
 },
 "nbformat": 4,
 "nbformat_minor": 1
}
