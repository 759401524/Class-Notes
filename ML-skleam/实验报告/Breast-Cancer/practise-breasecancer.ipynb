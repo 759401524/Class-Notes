{
 "cells": [
  {
   "cell_type": "markdown",
   "source": [
    "### 1、从本地读入数据，绘制良/恶性乳腺癌肿瘤测试集数据分布，良性肿瘤样本点标记为红色的Ο，恶性肿瘤样本点标记为黑色的×"
   ],
   "metadata": {
    "collapsed": false
   }
  },
  {
   "cell_type": "code",
   "execution_count": 1,
   "metadata": {
    "pycharm": {
     "is_executing": false,
     "name": "#%%\n"
    }
   },
   "outputs": [
    {
     "name": "stdout",
     "output_type": "stream",
     "text": [
      "(175, 4)\n"
     ]
    }
   ],
   "source": [
    "import pandas as pd\n",
    "test = pd.read_csv('breast-cancer-test.csv')\n",
    "print(test.shape)\n",
    "# print(test.loc[20:23, 'Clump Thickness': 'Cell Size'])"
   ]
  },
  {
   "cell_type": "code",
   "execution_count": 2,
   "metadata": {
    "pycharm": {
     "is_executing": false,
     "name": "#%%\n"
    }
   },
   "outputs": [
    {
     "name": "stdout",
     "output_type": "stream",
     "text": [
      "(118, 2)\n"
     ]
    }
   ],
   "source": [
    "test_0 = test.loc[test['Type'] == 0][['Clump Thickness', 'Cell Size']]\n",
    "print(test_0.shape)"
   ]
  },
  {
   "cell_type": "code",
   "execution_count": 3,
   "metadata": {
    "pycharm": {
     "is_executing": false,
     "name": "#%%\n"
    }
   },
   "outputs": [
    {
     "name": "stdout",
     "output_type": "stream",
     "text": [
      "(57, 2)\n"
     ]
    }
   ],
   "source": [
    "test_1 = test.loc[test['Type'] == 1][['Clump Thickness', 'Cell Size']]\n",
    "print(test_1.shape)"
   ]
  },
  {
   "cell_type": "code",
   "execution_count": 4,
   "metadata": {
    "pycharm": {
     "name": "#%%\n"
    }
   },
   "outputs": [],
   "source": [
    "import matplotlib.pyplot as plt\n",
    "from matplotlib import font_manager"
   ]
  },
  {
   "cell_type": "code",
   "execution_count": 5,
   "metadata": {
    "pycharm": {
     "name": "#%%\n"
    }
   },
   "outputs": [],
   "source": [
    "font_set = font_manager.FontProperties(fname='c:/Windows/Fonts/simkai.ttf')"
   ]
  },
  {
   "cell_type": "code",
   "execution_count": 6,
   "metadata": {
    "pycharm": {
     "name": "#%%\n"
    }
   },
   "outputs": [
    {
     "data": {
      "image/png": "[encoded data removed]",
      "text/plain": [
       "<Figure size 432x288 with 1 Axes>"
      ]
     },
     "metadata": {
      "needs_background": "light"
     },
     "output_type": "display_data"
    }
   ],
   "source": [
    "plt.scatter(test_0['Clump Thickness'], test_0['Cell Size'], marker='o', c='r')\n",
    "plt.scatter(test_1['Clump Thickness'], test_1['Cell Size'], marker='x', c='k')\n",
    "plt.title('良恶性可视化', fontproperties=font_set, fontsize=12)\n",
    "plt.xlabel('肿瘤厚度', fontproperties=font_set, fontsize=12)\n",
    "plt.ylabel('细胞大小', fontproperties=font_set, fontsize=12)\n",
    "plt.show()"
   ]
  },
  {
   "cell_type": "markdown",
   "metadata": {},
   "source": [
    "### 2、绘制随机参数下的二类分类器（用黄色直线表示），利用numpy中的random函数随机采样直线的截距和系数。"
   ]
  },
  {
   "cell_type": "code",
   "execution_count": 7,
   "metadata": {
    "pycharm": {
     "name": "#%%\n"
    }
   },
   "outputs": [],
   "source": [
    "import numpy as np"
   ]
  },
  {
   "cell_type": "code",
   "execution_count": 8,
   "metadata": {
    "pycharm": {
     "name": "#%%\n"
    }
   },
   "outputs": [
    {
     "name": "stdout",
     "output_type": "stream",
     "text": [
      "[0.78424063 0.62217166]\n"
     ]
    }
   ],
   "source": [
    "a = np.random.random([2])\n",
    "print(a)"
   ]
  },
  {
   "cell_type": "code",
   "execution_count": 9,
   "metadata": {
    "pycharm": {
     "name": "#%%\n"
    }
   },
   "outputs": [
    {
     "name": "stdout",
     "output_type": "stream",
     "text": [
      "[0.0520682]\n"
     ]
    }
   ],
   "source": [
    "b = np.random.random([1])\n",
    "print(b)"
   ]
  },
  {
   "cell_type": "code",
   "execution_count": 10,
   "metadata": {
    "pycharm": {
     "name": "#%%\n"
    }
   },
   "outputs": [],
   "source": [
    "x = np.arange(0, 12)\n",
    "y = (-a[0]*x-b)/a[1]"
   ]
  },
  {
   "cell_type": "code",
   "execution_count": 11,
   "metadata": {
    "pycharm": {
     "name": "#%%\n"
    }
   },
   "outputs": [
    {
     "data": {
      "image/png": "[encoded data removed]",
      "text/plain": [
       "<Figure size 432x288 with 1 Axes>"
      ]
     },
     "metadata": {
      "needs_background": "light"
     },
     "output_type": "display_data"
    }
   ],
   "source": [
    "plt.plot(x, y, 'y-')\n",
    "plt.scatter(test_0['Clump Thickness'], test_0['Cell Size'], marker='o', c='r')\n",
    "plt.scatter(test_1['Clump Thickness'], test_1['Cell Size'], marker='x', c='k')\n",
    "plt.title('良恶性可视化', fontproperties=font_set, fontsize=12)\n",
    "plt.xlabel('肿瘤厚度', fontproperties=font_set, fontsize=12)\n",
    "plt.ylabel('细胞大小', fontproperties=font_set, fontsize=12)\n",
    "plt.show()"
   ]
  },
  {
   "cell_type": "code",
   "execution_count": 12,
   "metadata": {
    "pycharm": {
     "name": "#%%\n"
    }
   },
   "outputs": [
    {
     "name": "stdout",
     "output_type": "stream",
     "text": [
      "(524, 4)\n"
     ]
    }
   ],
   "source": [
    "train = pd.read_csv('breast-cancer-train.csv')\n",
    "print(train.shape)"
   ]
  },
  {
   "cell_type": "markdown",
   "metadata": {},
   "source": [
    "### 3、（选做）绘制利用10条训练样本得到的二类分类器（用绿色直线表示）。"
   ]
  },
  {
   "cell_type": "code",
   "execution_count": 1,
   "metadata": {
    "pycharm": {
     "name": "#%%\n",
     "is_executing": false
    }
   },
   "outputs": [],
   "source": [
    "from sklearn.linear_model import LogisticRegression"
   ]
  },
  {
   "cell_type": "code",
   "execution_count": 17,
   "outputs": [
    {
     "name": "stdout",
     "text": [
      "[-0.10721332  0.48314152]\n",
      "[-1.51522787]\n"
     ],
     "output_type": "stream"
    }
   ],
   "source": [
    "lr = LogisticRegression(solver='liblinear')\n",
    "lr.fit(train.head(10)[['Clump Thickness', 'Cell Size']], train.head(10)['Type'])\n",
    "print(lr.coef_[0, :])\n",
    "print(lr.intercept_)"
   ],
   "metadata": {
    "collapsed": false,
    "pycharm": {
     "name": "#%%\n",
     "is_executing": false
    }
   }
  },
  {
   "cell_type": "code",
   "execution_count": 18,
   "outputs": [],
   "source": [
    "coef = lr.coef_[0, :]\n",
    "intercept = lr.intercept_\n",
    "x = np.arange(0, 12)\n",
    "y = (-coef[0] * x - intercept) / coef[1]"
   ],
   "metadata": {
    "collapsed": false,
    "pycharm": {
     "name": "#%%\n",
     "is_executing": false
    }
   }
  },
  {
   "cell_type": "code",
   "execution_count": 19,
   "outputs": [
    {
     "data": {
      "text/plain": "<Figure size 432x288 with 1 Axes>",
      "image/png": "[encoded data removed]"
     },
     "metadata": {
      "needs_background": "light"
     },
     "output_type": "display_data"
    }
   ],
   "source": [
    "plt.plot(x, y, 'g-')\n",
    "plt.scatter(test_0['Clump Thickness'], test_0['Cell Size'], marker='o', c='r')\n",
    "plt.scatter(test_1['Clump Thickness'], test_1['Cell Size'], marker='x', c='k')\n",
    "plt.title('良恶性可视化', fontproperties=font_set, fontsize=12)\n",
    "plt.xlabel('肿瘤厚度', fontproperties=font_set, fontsize=12)\n",
    "plt.ylabel('细胞大小', fontproperties=font_set, fontsize=12)\n",
    "plt.show()"
   ],
   "metadata": {
    "collapsed": false,
    "pycharm": {
     "name": "#%%\n",
     "is_executing": false
    }
   }
  },
  {
   "cell_type": "markdown",
   "source": [
    "### 4、（选做）绘制使用所有训练样本得到的二类分类器（用蓝色直线表示）。"
   ],
   "metadata": {
    "collapsed": false
   }
  },
  {
   "cell_type": "code",
   "execution_count": 14,
   "metadata": {
    "pycharm": {
     "name": "#%%\n"
    }
   },
   "outputs": [
    {
     "name": "stdout",
     "output_type": "stream",
     "text": [
      "[0.59071861 0.7498354 ]\n",
      "[-4.67611309]\n"
     ]
    }
   ],
   "source": [
    "lr = LogisticRegression(solver='liblinear')\n",
    "lr.fit(train[['Clump Thickness', 'Cell Size']], train['Type'])\n",
    "print(lr.coef_[0, :])\n",
    "print(lr.intercept_)"
   ]
  },
  {
   "cell_type": "code",
   "execution_count": 15,
   "metadata": {
    "pycharm": {
     "name": "#%%\n"
    }
   },
   "outputs": [],
   "source": [
    "coef = lr.coef_[0, :]\n",
    "intercept = lr.intercept_\n",
    "x = np.arange(0, 12)\n",
    "y = (-coef[0] * x - intercept) / coef[1]"
   ]
  },
  {
   "cell_type": "code",
   "execution_count": 16,
   "metadata": {
    "pycharm": {
     "name": "#%%\n"
    }
   },
   "outputs": [
    {
     "data": {
      "image/png": "[encoded data removed]",
      "text/plain": [
       "<Figure size 432x288 with 1 Axes>"
      ]
     },
     "metadata": {
      "needs_background": "light"
     },
     "output_type": "display_data"
    }
   ],
   "source": [
    "plt.plot(x, y, 'b-')\n",
    "plt.scatter(test_0['Clump Thickness'], test_0['Cell Size'], marker='o', c='r')\n",
    "plt.scatter(test_1['Clump Thickness'], test_1['Cell Size'], marker='x', c='k')\n",
    "plt.title('良恶性可视化', fontproperties=font_set, fontsize=12)\n",
    "plt.xlabel('肿瘤厚度', fontproperties=font_set, fontsize=12)\n",
    "plt.ylabel('细胞大小', fontproperties=font_set, fontsize=12)\n",
    "plt.show()"
   ]
  }
 ],
 "metadata": {
  "kernelspec": {
   "display_name": "Python 3.7.6 64-bit ('base': conda)",
   "language": "python",
   "name": "python37664bitbaseconda926f92ea88cc4e2a9261c74aed2fab1e"
  },
  "language_info": {
   "codemirror_mode": {
    "name": "ipython",
    "version": 3
   },
   "file_extension": ".py",
   "mimetype": "text/x-python",
   "name": "python",
   "nbconvert_exporter": "python",
   "pygments_lexer": "ipython3",
   "version": "3.7.6"
  },
  "pycharm": {
   "stem_cell": {
    "cell_type": "raw",
    "source": [],
    "metadata": {
     "collapsed": false
    }
   }
  },
  "toc": {
   "base_numbering": 1,
   "nav_menu": {},
   "number_sections": true,
   "sideBar": true,
   "skip_h1_title": false,
   "title_cell": "Table of Contents",
   "title_sidebar": "Contents",
   "toc_cell": false,
   "toc_position": {},
   "toc_section_display": true,
   "toc_window_display": false
  },
  "varInspector": {
   "cols": {
    "lenName": 16,
    "lenType": 16,
    "lenVar": 40
   },
   "kernels_config": {
    "python": {
     "delete_cmd_postfix": "",
     "delete_cmd_prefix": "del ",
     "library": "var_list.py",
     "varRefreshCmd": "print(var_dic_list())"
    },
    "r": {
     "delete_cmd_postfix": ") ",
     "delete_cmd_prefix": "rm(",
     "library": "var_list.r",
     "varRefreshCmd": "cat(var_dic_list()) "
    }
   },
   "types_to_exclude": [
    "module",
    "function",
    "builtin_function_or_method",
    "instance",
    "_Feature"
   ],
   "window_display": false
  }
 },
 "nbformat": 4,
 "nbformat_minor": 1
}