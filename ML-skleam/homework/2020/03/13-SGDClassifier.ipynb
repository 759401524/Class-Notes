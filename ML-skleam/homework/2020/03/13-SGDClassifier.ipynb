{
 "cells": [
  {
   "cell_type": "markdown",
   "metadata": {
    "pycharm": {
     "name": "#%%\n"
    }
   },
   "source": [
    "作业6题目:\n",
    "\n",
    "使用SGDClassifier对乳腺癌数据进行预测并评价\n",
    "\n",
    "要求代码运行后效果:\n",
    "\n",
    "Accuarcy of SGD Classifier: 0.9532163742690059\n",
    "\n",
    "|              | precision | recall | fl-scor | support |\n",
    "| -----------: | :-------: | :----: | :-----: | :-----: |\n",
    "|       Benign |   0.97    |  0.95   |  0.96   |   100   |\n",
    "|    Malignant |   0.93    |  0.96  |  0.94   |   71    |\n",
    "|     accuracy |           |        |  0.95   |   171   |\n",
    "|    macro avg |   0.95    |  0.95  |  0.95   |   171   |\n",
    "| weighted avg |   0.95    |  0.95  |  0.95   |   171   |\n",
    "\n",
    " 供参考的实现步骤:\n",
    " 1. 数据预处理 \n",
    " 2. 分割数据\n",
    " 3. 预测任务\n",
    " 4. 性能评价"
   ]
  },
  {
   "cell_type": "code",
   "execution_count": 1,
   "metadata": {},
   "outputs": [],
   "source": [
    "# 导入pandas与numpy工具包\n",
    "import pandas as pd\n",
    "import numpy as np"
   ]
  },
  {
   "cell_type": "markdown",
   "metadata": {},
   "source": [
    "1  数据预处理"
   ]
  },
  {
   "cell_type": "code",
   "execution_count": 2,
   "metadata": {},
   "outputs": [
    {
     "name": "stdout",
     "output_type": "stream",
     "text": [
      "(699, 11)\n"
     ]
    }
   ],
   "source": [
    "columns_names = [str(i) for i in range(1, 12)]\n",
    "\n",
    "# 使用pandas.read_csv函数从互联网读取指定数据\n",
    "data = pd.read_csv('breast-cancer-wisconsin.data', names=columns_names)\n",
    "\n",
    "# 输出data的数据量和维度\n",
    "print(data.shape)"
   ]
  },
  {
   "cell_type": "code",
   "execution_count": 3,
   "metadata": {},
   "outputs": [
    {
     "name": "stdout",
     "output_type": "stream",
     "text": [
      "(683, 11)\n"
     ]
    }
   ],
   "source": [
    "# 将?替换为标准缺失值表示\n",
    "data = data.replace(to_replace='?', value=np.nan)\n",
    "\n",
    "# 丢弃带有缺失值的数据（只要有一个维度有缺失）\n",
    "data = data.dropna(how='any')\n",
    "\n",
    "# 输出data的数据量和维度。\n",
    "print(data.shape)"
   ]
  },
  {
   "cell_type": "markdown",
   "metadata": {},
   "source": [
    "2  分割数据"
   ]
  },
  {
   "cell_type": "code",
   "execution_count": 4,
   "metadata": {},
   "outputs": [],
   "source": [
    "# 使用sklearn.model_selection里的train_test_split模块用于分割数据\n",
    "from sklearn.model_selection import train_test_split\n",
    "\n",
    "# 随机采样25%的数据用于测试，剩下的75%用于构建训练集合。\n",
    "X_train, X_test, y_train, y_test = train_test_split(data[columns_names[1:10]],\n",
    "                                                    data[columns_names[10]],\n",
    "                                                    test_size=0.25,\n",
    "                                                    random_state=33)"
   ]
  },
  {
   "cell_type": "markdown",
   "metadata": {},
   "source": [
    "3  预测任务"
   ]
  },
  {
   "cell_type": "code",
   "execution_count": 5,
   "metadata": {},
   "outputs": [],
   "source": [
    "# 从sklearn.preprocessing里导入StandardScaler\n",
    "from sklearn.preprocessing import StandardScaler\n",
    "# 从sklearn.linear_model里导入LogisticRegression与SGDClassifier\n",
    "from sklearn.linear_model import LogisticRegression\n",
    "from sklearn.linear_model import SGDClassifier\n",
    "\n",
    "# 标准化数据，保证每个维度的特征数据方差为1，均值为0\n",
    "# 使得预测结果不会被某些维度过大的特征值而主导\n",
    "ss = StandardScaler()\n",
    "X_train = ss.fit_transform(X_train)\n",
    "X_test = ss.transform(X_test)\n",
    "\n",
    "# 初始化LogisticRegression与SGDClassifier\n",
    "sgdc = SGDClassifier()\n",
    "# 调用SGDClassifier中的fit函数/模块用来训练模型参数\n",
    "sgdc.fit(X_train, y_train)\n",
    "\n",
    "# 使用训练好的模型sgdc对X_test进行预测，结果储存在变量sgdc_y_predict中\n",
    "sgdc_y_predict = sgdc.predict(X_test)"
   ]
  },
  {
   "cell_type": "markdown",
   "metadata": {},
   "source": [
    "4  性能评价"
   ]
  },
  {
   "cell_type": "code",
   "execution_count": 6,
   "metadata": {},
   "outputs": [
    {
     "name": "stdout",
     "output_type": "stream",
     "text": [
      "Accuarcy of SGD Classifier: 0.9766081871345029\n",
      "              precision    recall  f1-score   support\n",
      "\n",
      "      Benign       0.97      0.99      0.98       100\n",
      "   Malignant       0.99      0.96      0.97        71\n",
      "\n",
      "    accuracy                           0.98       171\n",
      "   macro avg       0.98      0.97      0.98       171\n",
      "weighted avg       0.98      0.98      0.98       171\n",
      "\n"
     ]
    }
   ],
   "source": [
    "# 从sklearn.metrics里导入classification_report模块\n",
    "from sklearn.metrics import classification_report\n",
    "\n",
    "# 使用随机梯度下降模型自带的评分函数score获得模型在测试集上的准确性结果\n",
    "print('Accuarcy of SGD Classifier:', sgdc.score(X_test, y_test))\n",
    "\n",
    "# 利用classification_report模块获得SGDClassifier其他三个指标的结果\n",
    "print(\n",
    "    classification_report(y_test,\n",
    "                          sgdc_y_predict,\n",
    "                          target_names=['Benign', 'Malignant']))"
   ]
  }
 ],
 "metadata": {
  "kernelspec": {
   "display_name": "Python 3",
   "language": "python",
   "name": "python3"
  },
  "language_info": {
   "codemirror_mode": {
    "name": "ipython",
    "version": 3
   },
   "file_extension": ".py",
   "mimetype": "text/x-python",
   "name": "python",
   "nbconvert_exporter": "python",
   "pygments_lexer": "ipython3",
   "version": "3.7.6"
  },
  "pycharm": {
   "stem_cell": {
    "cell_type": "raw",
    "metadata": {
     "collapsed": false
    },
    "source": [
     "\n",
     "作业6题目:\n",
     "\n",
     "使用SGDClassifier对乳腺癌数据进行预测并评价\n",
     "\n",
     "要求代码运行后效果:\n",
     "\n",
     "Accuarcy of SGD Classifier: 0.9532163742690059\n",
     "\n",
     "|              | precision | recall | fl-scor | support |\n",
     "| -----------: | :-------: | :----: | :-----: | :-----: |\n",
     "|       Benign |   0.97    |  .95   |  0.96   |   100   |\n",
     "|    Malignant |   0.93    |  0.96  |  0.94   |   71    |\n",
     "|     accuracy |           |        |  0.95   |   171   |\n",
     "|    macro avg |   0.95    |  0.95  |  0.95   |   171   |\n",
     "| weighted avg |   0.95    |  0.95  |  0.95   |   171   |\n",
     "\n",
     "> 供参考的实现步骤:\n",
     ">> 1. 数据预处理 \n",
     ">> 2. 分割数据\n",
     ">> 3. 预测任务\n",
     ">> 4. 性能评价\n"
    ]
   }
  }
 },
 "nbformat": 4,
 "nbformat_minor": 1
}
