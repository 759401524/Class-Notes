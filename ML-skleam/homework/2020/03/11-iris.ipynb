{
 "nbformat": 4,
 "nbformat_minor": 2,
 "metadata": {
  "language_info": {
   "name": "python",
   "codemirror_mode": {
    "name": "ipython",
    "version": 3
   },
   "version": "3.7.6-final"
  },
  "orig_nbformat": 2,
  "file_extension": ".py",
  "mimetype": "text/x-python",
  "name": "python",
  "npconvert_exporter": "python",
  "pygments_lexer": "ipython3",
  "version": 3,
  "kernelspec": {
   "name": "python37664bitbaseconda55ffe487beff460a935df2aba1dd890b",
   "display_name": "Python 3.7.6 64-bit ('base': conda)"
  },
  "pycharm": {
   "stem_cell": {
    "cell_type": "raw",
    "source": [],
    "metadata": {
     "collapsed": false
    }
   }
  }
 },
 "cells": [
  {
   "cell_type": "markdown",
   "execution_count": null,
   "metadata": {},
   "outputs": [],
   "source": [
    "作业题目:\n",
    "\n",
    "输出鸢尾花数据索引 `[25, 75, 120]` 的真实值、预测值、概率估计\n",
    "\n",
    "要求代码运行后效果:\n",
    "\n",
    "真实值: `[0 1 2]`\n",
    "\n",
    "预测值: `[0 1 2]`\n",
    "\n",
    "预测概率估计: \n",
    "\n",
    "`[[7.74387849e-01 2.25570742e-01 4.14089912e-05]`\n",
    "\n",
    "` [3.58881987e-02 8.29637761e-01 1.34474040e-01]`\n",
    "\n",
    "` [5.08108403e-04 2.23925960e-01 7.75565932e-01]]`\n",
    "\n",
    "供参考的实现步骤:\n",
    "\n",
    "1. 导入鸢尾花数据集、导入 `LogisticRegression`\n",
    "\n",
    "2. 获取鸢尾花数据\n",
    "\n",
    "3. 输出数据索引 `[25, 75, 120]` 真实值\n",
    "\n",
    "4. 实例化 `LogisticRegression` 为对象,并训练\n",
    "\n",
    "5. 输出数据索引 `[25, 75, 120]` 预测值\n",
    "\n",
    "6. 输出数据索引 `[25, 75, 120]` 概率估计"
   ]
  },
  {
   "cell_type": "code",
   "execution_count": 1,
   "metadata": {},
   "outputs": [],
   "source": [
    "# 1. 导入鸢尾花数据集、导入`LogisticRegression`\n",
    "from sklearn.datasets import load_iris\n",
    "from sklearn.linear_model import LogisticRegression"
   ]
  },
  {
   "cell_type": "code",
   "execution_count": 2,
   "metadata": {},
   "outputs": [],
   "source": [
    "# 2. 获取鸢尾花数据\n",
    "iris = load_iris()\n",
    "X, y = load_iris(return_X_y=True)"
   ]
  },
  {
   "cell_type": "code",
   "execution_count": 3,
   "metadata": {},
   "outputs": [
    {
     "name": "stdout",
     "output_type": "stream",
     "text": "[0 1 2]\n"
    }
   ],
   "source": [
    "# 3. 输出数据索引`[25, 75, 120]`真实值\n",
    "print(iris.target[[25,75,120]])"
   ]
  },
  {
   "cell_type": "code",
   "execution_count": 4,
   "metadata": {},
   "outputs": [
    {
     "data": {
      "text/plain": "LogisticRegression(C=1.0, class_weight=None, dual=False, fit_intercept=True,\n                   intercept_scaling=1, l1_ratio=None, max_iter=100,\n                   multi_class='auto', n_jobs=None, penalty='l2',\n                   random_state=None, solver='liblinear', tol=0.0001, verbose=0,\n                   warm_start=False)"
     },
     "execution_count": 4,
     "metadata": {},
     "output_type": "execute_result"
    }
   ],
   "source": [
    "# 4. 实例化`LogisticRegression` 为对象,并训练\n",
    "lgr = LogisticRegression(multi_class='auto', solver='liblinear')\n",
    "lgr.fit(X,y)"
   ]
  },
  {
   "cell_type": "code",
   "execution_count": 5,
   "metadata": {},
   "outputs": [
    {
     "name": "stdout",
     "output_type": "stream",
     "text": "[0 1 2]\n"
    }
   ],
   "source": [
    "# 5. 输出数据索引`[25, 75, 120]`预测值\n",
    "print(lgr.predict(X[[25,75,120]]))"
   ]
  },
  {
   "cell_type": "code",
   "execution_count": 6,
   "metadata": {},
   "outputs": [
    {
     "name": "stdout",
     "output_type": "stream",
     "text": "[[7.74387849e-01 2.25570742e-01 4.14089912e-05]\n [3.58881987e-02 8.29637761e-01 1.34474040e-01]\n [5.08108403e-04 2.23925960e-01 7.75565932e-01]]\n"
    }
   ],
   "source": [
    "# 6. 输出数据索引`[25, 75, 120]`概率估计\n",
    "print(lgr.predict_proba(X[[25,75,120]]))"
   ]
  }
 ]
}